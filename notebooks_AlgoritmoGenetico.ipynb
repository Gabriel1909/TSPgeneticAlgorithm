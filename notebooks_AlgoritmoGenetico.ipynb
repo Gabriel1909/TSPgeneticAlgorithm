{
  "metadata": {
    "kernelspec": {
      "display_name": "Pyolite",
      "language": "python",
      "name": "python"
    },
    "language_info": {
      "codemirror_mode": {
        "name": "python",
        "version": 3
      },
      "file_extension": ".py",
      "mimetype": "text/x-python",
      "name": "python",
      "nbconvert_exporter": "python",
      "pygments_lexer": "ipython3",
      "version": "3.8"
    }
  },
  "nbformat_minor": 5,
  "nbformat": 4,
  "cells": [
    {
      "cell_type": "markdown",
      "source": "# Inteligência Artificial - Algoritmos Genéticos 🧬\n\nNomes: Gabriel Gamboa, Fernando Pascoal, João Vitor Oliveira e Luiz Thomasini\n\nO grupo optou por resolver o **Problema do Caixeiro Viajante** baseado no algoritmo genético apresentado em aula.\n\nO código fonte da solução pode ser encontrado no [Github](https://github.com/Gabriel1909/TSPgeneticAlgorithm).\n\n## Implementação 💻\n\n### Iniciliazação da População 👥\n",
      "metadata": {
        "tags": []
      },
      "id": "fa55da4f-330c-4455-8612-8a189684bc85"
    },
    {
      "cell_type": "code",
      "source": "def init_population(pop_number, gene_pool):\n    population = []\n\n    for _ in range(pop_number):\n\n        genes_validos = copy.deepcopy(gene_pool)\n        new_individual = []\n\n        while genes_validos:\n            gene = genes_validos[random.randrange(0, len(genes_validos))]\n            if gene in genes_validos:\n                genes_validos.remove(gene)\n                new_individual.append(gene)\n\n        population.append(new_individual)\n\n    return population",
      "metadata": {
        "tags": []
      },
      "execution_count": null,
      "outputs": [],
      "id": "91e33282-45d1-431e-b8fc-16913fe29d4a"
    },
    {
      "cell_type": "markdown",
      "source": "### Função de Fitness",
      "metadata": {
        "tags": []
      },
      "id": "2eb2af0b-b097-4864-97b5-25465f1de71c"
    },
    {
      "cell_type": "code",
      "source": "",
      "metadata": {},
      "execution_count": null,
      "outputs": [],
      "id": "f3d8e0c3-7a41-419f-a87f-259fecf11b05"
    },
    {
      "cell_type": "markdown",
      "source": "### Operador Genético: Select",
      "metadata": {},
      "id": "d57a58ca-f61d-4906-bdc0-f4bb64b0d96f"
    },
    {
      "cell_type": "code",
      "source": "# genetic operator for selection of individuals;\n# this function implements roulette wheel selection, where individuals with\n# higher fitness are selected with higher probability\ndef select(r, population, fn_fitness):\n    fitnesses = map(fn_fitness, population)\n    sampler = weighted_sampler(population, fitnesses)\n    return [sampler() for _ in range(r)]\n\n\n# return a single sample from seq; the probability of a sample being returned\n# is proportional to its weight\ndef weighted_sampler(seq, weights):\n    totals = []\n    for w in weights:\n        totals.append(w + totals[-1] if totals else w)\n    return lambda: seq[bisect.bisect(totals, random.uniform(0, totals[-1]))]\n",
      "metadata": {},
      "execution_count": null,
      "outputs": [],
      "id": "5294f669-df15-46ff-aea3-9c454cedb833"
    },
    {
      "cell_type": "markdown",
      "source": "### Operador Genético: Recombine",
      "metadata": {},
      "id": "1acb2961-91f3-4ddd-9fe3-61b7f84b9af5"
    },
    {
      "cell_type": "code",
      "source": "def recombine(x, y):\n    n = len(x)\n\n    minimo = 30\n    maximo = 40\n\n    primeiro_corte = random.randrange(0, n-maximo)\n\n    segundo_corte = primeiro_corte + random.randrange(minimo, maximo)\n\n    resultado = [-1 for _ in range(0, n)]\n\n    resultado[primeiro_corte:segundo_corte] = x[primeiro_corte:segundo_corte]\n\n    valores_validos = x[0:primeiro_corte] + x[segundo_corte:n]\n\n    index_y = n-1\n\n    for index in range(n-1, -1, -1):\n        if resultado[index] == -1:\n\n            while True:\n                if y[index_y] in valores_validos:\n                    resultado[index] = y[index_y]\n                    index_y -= 1\n                    break\n                else:\n                    index_y -= 1\n\n    return resultado\n",
      "metadata": {},
      "execution_count": null,
      "outputs": [],
      "id": "d4a39cdd-a7e1-4217-9153-d095c505726e"
    },
    {
      "cell_type": "markdown",
      "source": "### Operador Genético: Mutate",
      "metadata": {},
      "id": "e7b63d11-cf55-4c79-b898-761ed7a1fa0f"
    },
    {
      "cell_type": "code",
      "source": "def mutate(x, pmut):\n\n    if random.uniform(0, 1) >= pmut:\n        return x\n\n    n = len(x)\n\n    c = random.randrange(0, n)\n    r = random.randrange(0, n)\n\n    temp = x[c]\n\n    x[c] = x[r]\n    x[r] = temp\n\n    return x",
      "metadata": {},
      "execution_count": null,
      "outputs": [],
      "id": "2227aafd-e210-4793-9e0e-b50b2ad216c9"
    },
    {
      "cell_type": "markdown",
      "source": "### Avaliação da Solução",
      "metadata": {},
      "id": "4294ebfb-f3d0-4981-a872-9b2c004192ec"
    },
    {
      "cell_type": "code",
      "source": "class EvaluateTSP:\n\n    def __init__(self, problem_instance):\n        self.problem_instance = problem_instance\n\n    def __call__(self, solution):\n        distancia = 0\n\n        for idCordenada in range(0, len(solution) - 2):\n            x1 = self.problem_instance[solution[idCordenada]][0]\n            y1 = self.problem_instance[solution[idCordenada]][1]\n\n            x2 = self.problem_instance[solution[idCordenada + 1]][0]\n            y2 = self.problem_instance[solution[idCordenada + 1]][1]\n\n            distancia += distancia_euclidiana(x1, y1, x2, y2)\n\n        return 6000 - distancia\n",
      "metadata": {},
      "execution_count": null,
      "outputs": [],
      "id": "91001bc6-104b-4570-b087-ec15721cc7b3"
    },
    {
      "cell_type": "markdown",
      "source": "## Resultados ",
      "metadata": {},
      "id": "f5c85a08-23b0-415b-8eaa-84547edb4c34"
    },
    {
      "cell_type": "markdown",
      "source": "",
      "metadata": {},
      "id": "8ee38be0-e335-4d61-bcb9-1a6bc4dd2818"
    }
  ]
}